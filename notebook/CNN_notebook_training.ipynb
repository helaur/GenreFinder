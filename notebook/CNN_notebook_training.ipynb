{
 "cells": [
  {
   "cell_type": "code",
   "execution_count": 0,
   "metadata": {
    "id": "LMCW20znlwgD",
    "colab_type": "code",
    "colab": {}
   },
   "outputs": [],
   "source": [
    "import csv\n",
    "import json\n",
    "import numpy as np\n",
    "from keras.utils.np_utils import to_categorical\n",
    "\n",
    "\n",
    "\n",
    "\n",
    "class ReadSongFeatureData:\n",
    "\n",
    "\n",
    "    def read_json_file(self, path, genre):\n",
    "\n",
    "        labels = []\n",
    "        with open(path, 'r') as file:\n",
    "            data = json.load(file)\n",
    "\n",
    "            for i in data[1]:\n",
    "                labels.append(genre)\n",
    "\n",
    "        return data[1], labels\n",
    "\n",
    "    def read_all_genres_json(self, genres):\n",
    "        all_mfccs = []\n",
    "        all_labels = []\n",
    "\n",
    "        for genre in genres:\n",
    "            single_genre_mfcc, single_genre_labels = self.read_json_file(\"%s.json\" % genre, genre)\n",
    "            all_mfccs.extend(single_genre_mfcc)\n",
    "            all_labels.extend(single_genre_labels)\n",
    "\n",
    "\n",
    "\n",
    "        label_ids, label_row_ids = np.unique(all_labels, return_inverse=True)\n",
    "        onehot_encoding_labels = to_categorical(label_row_ids, len(label_ids))\n",
    "\n",
    "\n",
    "\n",
    "        return all_mfccs, onehot_encoding_labels\n",
    "\n",
    "\n",
    "\n"
   ]
  },
  {
   "cell_type": "code",
   "execution_count": 3,
   "metadata": {
    "id": "bn1WknpAlyaS",
    "colab_type": "code",
    "outputId": "9690bf2a-7daf-4f8b-85fc-efdb4efa4731",
    "colab": {
     "base_uri": "https://localhost:8080/",
     "height": 122.0
    }
   },
   "outputs": [
    {
     "name": "stdout",
     "output_type": "stream",
     "text": [
      "Go to this URL in a browser: https://accounts.google.com/o/oauth2/auth?client_id=947318989803-6bn6qk8qdgf4n4g3pfee6491hc0brc4i.apps.googleusercontent.com&redirect_uri=urn%3Aietf%3Awg%3Aoauth%3A2.0%3Aoob&scope=email%20https%3A%2F%2Fwww.googleapis.com%2Fauth%2Fdocs.test%20https%3A%2F%2Fwww.googleapis.com%2Fauth%2Fdrive%20https%3A%2F%2Fwww.googleapis.com%2Fauth%2Fdrive.photos.readonly%20https%3A%2F%2Fwww.googleapis.com%2Fauth%2Fpeopleapi.readonly&response_type=code\n",
      "\n",
      "Enter your authorization code:\n",
      "··········\n",
      "Mounted at /content/drive\n"
     ]
    }
   ],
   "source": [
    "from google.colab import drive\n",
    "drive.mount('/content/drive')\n"
   ]
  },
  {
   "cell_type": "code",
   "execution_count": 4,
   "metadata": {
    "id": "SJ0UzzdJlzmf",
    "colab_type": "code",
    "outputId": "53068524-1843-4905-c516-596badd1f7fc",
    "colab": {
     "base_uri": "https://localhost:8080/",
     "height": 34.0
    }
   },
   "outputs": [
    {
     "name": "stdout",
     "output_type": "stream",
     "text": [
      "/content/drive/My Drive/Colab Notebooks/30\n"
     ]
    }
   ],
   "source": [
    "cd \"drive/My Drive/Colab Notebooks/30\"\n"
   ]
  },
  {
   "cell_type": "code",
   "execution_count": 0,
   "metadata": {
    "id": "NxC1FkaDl0vf",
    "colab_type": "code",
    "colab": {}
   },
   "outputs": [],
   "source": [
    "from keras.models import Sequential\n",
    "from keras.layers import Dense, Conv2D, Flatten, Dropout, MaxPooling2D, Activation,BatchNormalization\n",
    "from keras.regularizers import l2\n",
    "import numpy as np\n",
    "import random\n",
    "from keras.optimizers import Adam\n",
    "\n",
    "\n",
    "\n",
    "class CNN:\n",
    "\n",
    "    def __init__(self):\n",
    "      \n",
    "        self.input_size = 1291\n",
    "        self.genres = ['Folk', 'Hip-Hop', 'Pop', 'Rock', 'Instrumental']\n",
    "        self.regularizer = l2(1e-5)\n",
    "        self.model = self.get_CNN((20, self.input_size, 1))\n",
    "        self.epoch = 60\n",
    "\n",
    "\n",
    "    def get_CNN(self, shape):\n",
    "\n",
    "        model = Sequential()\n",
    "        model.add(Conv2D(input_shape=shape, kernel_size=(3, 3), filters=24, kernel_regularizer=self.regularizer))\n",
    "        model.add(Activation('relu'))\n",
    "        model.add(Dropout(0.1))\n",
    "\n",
    "        model.add(Conv2D(32, (3, 3), padding='same', kernel_regularizer=self.regularizer))\n",
    "        model.add(Activation('relu'))\n",
    "        model.add(MaxPooling2D(pool_size=(2, 2), strides=(2, 2)))\n",
    "        model.add(Dropout(0.1))\n",
    "\n",
    "        model.add(Conv2D(48, (3, 3), padding='same', kernel_regularizer=self.regularizer))\n",
    "        model.add(Activation('relu'))\n",
    "        model.add(MaxPooling2D(pool_size=(2, 2), strides=(2, 2)))\n",
    "        model.add(Dropout(0.3))\n",
    "\n",
    "        model.add(Conv2D(62, (3, 3), padding='same', kernel_regularizer=self.regularizer))\n",
    "        model.add(Activation('relu'))\n",
    "        model.add(MaxPooling2D(pool_size=(2, 2), strides=(2, 2)))\n",
    "        model.add(Dropout(0.4))\n",
    "\n",
    "        model.add(Conv2D(128, (3, 3), padding='same', kernel_regularizer=self.regularizer))\n",
    "        model.add(Activation('relu'))\n",
    "        model.add(MaxPooling2D(pool_size=(2, 2), strides=(2, 2)))\n",
    "        model.add(Dropout(0.3))\n",
    "\n",
    "        model.add(Conv2D(256, (3, 3), padding='same', kernel_regularizer=self.regularizer))\n",
    "        model.add(Activation('relu'))\n",
    "        model.add(MaxPooling2D(pool_size=(1, 2), strides=(2, 2)))\n",
    "        model.add(Dropout(0.3))\n",
    "\n",
    "\n",
    "\n",
    "        model.add(Flatten())\n",
    "        model.add(BatchNormalization())\n",
    "\n",
    "        model.add(Dense(512, kernel_regularizer=self.regularizer))\n",
    "        model.add(Activation('relu'))\n",
    "        model.add(Dropout(0.4))\n",
    "\n",
    "        model.add(Dense(256, kernel_regularizer=self.regularizer))\n",
    "        model.add(Activation('relu'))\n",
    "        model.add(Dropout(0.2))\n",
    "\n",
    "        model.add(Dense(len(self.genres), activation='softmax'))\n",
    "\n",
    "        optimizer = Adam(lr=0.001)\n",
    "        model.compile(optimizer=optimizer, loss='categorical_crossentropy', metrics=['accuracy'])\n",
    "\n",
    "        return model\n",
    "\n",
    "\n",
    "    def get_data(self):\n",
    "        mfcc, label = self.get_mfcc_data_for_all_genres()\n",
    "\n",
    "        mfcc, label = self.randomise_mfcc_label_order(label, mfcc)\n",
    "\n",
    "        test_input, test_labels, train_input, train_labels = self.split_training_testing_data(mfcc, label)\n",
    "\n",
    "        return train_input, train_labels, test_input, test_labels\n",
    "\n",
    "    def randomise_mfcc_label_order(self, labels, mfcc):\n",
    "\n",
    "        labels = list(labels)\n",
    "        mfcc = list(mfcc)\n",
    "        data = list(zip(labels, mfcc))\n",
    "        random.shuffle(data)\n",
    "        labels_shuffled, mfcc_shuffled = [], []\n",
    "        labels_shuffled[:], mfcc_shuffled[:] = zip(*data)\n",
    "\n",
    "        return mfcc_shuffled, labels_shuffled\n",
    "\n",
    "    def get_mfcc_data_for_all_genres(self):\n",
    "\n",
    "\n",
    "        reader = ReadSongFeatureData()\n",
    "        mfcc, labels = reader.read_all_genres_json(self.genres)\n",
    "\n",
    "        return mfcc, labels\n",
    "\n",
    "    def split_training_testing_data(self, mfcc, labels):\n",
    "        train_split = 0.9\n",
    "        index = int(len(labels) * train_split)\n",
    "        train_input = mfcc[:index]\n",
    "        train_labels = labels[:index]\n",
    "        test_input = mfcc[index:]\n",
    "        test_labels = labels[index:]\n",
    "        test_input = np.array(test_input)\n",
    "\n",
    "        train_input = np.array(train_input)\n",
    "\n",
    "        test_input = test_input.reshape(len(test_input), 20, self.input_size, 1)\n",
    "\n",
    "        train_input = train_input.reshape(len(train_input), 20, self.input_size, 1)\n",
    "        train_labels = np.array(train_labels)\n",
    "        test_labels = np.array(test_labels)\n",
    "\n",
    "        return test_input, test_labels, train_input, train_labels\n",
    "\n",
    "    def fit_model(self):\n",
    "        train_input, train_labels, test_input, test_labels = self.get_data()\n",
    "        print('shape of train input ', np.shape(train_input))\n",
    "        print('shape of train_labels ', np.shape(train_labels))\n",
    "        print('shape of test_input ', np.shape(test_input))\n",
    "        print('shape of test_labels ', np.shape(test_labels))\n",
    "        \n",
    "        self.model.fit(train_input, train_labels, epochs=self.epoch, batch_size=32, validation_split=0.1)\n",
    "        loss, acc = self.model.evaluate(test_input, test_labels, batch_size=32)\n",
    "\n",
    "        print(\"Loss: %.4f and Acc: %.4f\" % (loss, acc))\n",
    "        return self.model, loss, acc, test_input, test_labels\n",
    "\n"
   ]
  },
  {
   "cell_type": "code",
   "execution_count": 13,
   "metadata": {
    "id": "1rDs90Bcl3MI",
    "colab_type": "code",
    "outputId": "1fa0627d-c2f2-4562-f6a5-c5aad11922ae",
    "colab": {
     "base_uri": "https://localhost:8080/",
     "height": 2176.0
    }
   },
   "outputs": [
    {
     "name": "stdout",
     "output_type": "stream",
     "text": [
      "shape of train input  (4496, 20, 1291, 1)\n",
      "shape of train_labels  (4496, 5)\n",
      "shape of test_input  (500, 20, 1291, 1)\n",
      "shape of test_labels  (500, 5)\n",
      "Train on 4046 samples, validate on 450 samples\n",
      "Epoch 1/60\n",
      "4046/4046 [==============================] - 10s 3ms/step - loss: 1.4194 - acc: 0.3814 - val_loss: 6.6994 - val_acc: 0.2200\n",
      "Epoch 2/60\n",
      "4046/4046 [==============================] - 8s 2ms/step - loss: 1.2546 - acc: 0.4899 - val_loss: 2.8749 - val_acc: 0.2422\n",
      "Epoch 3/60\n",
      "4046/4046 [==============================] - 8s 2ms/step - loss: 1.2146 - acc: 0.5104 - val_loss: 2.7668 - val_acc: 0.2267\n",
      "Epoch 4/60\n",
      "4046/4046 [==============================] - 8s 2ms/step - loss: 1.2055 - acc: 0.5277 - val_loss: 1.4834 - val_acc: 0.4511\n",
      "Epoch 5/60\n",
      "4046/4046 [==============================] - 8s 2ms/step - loss: 1.1611 - acc: 0.5462 - val_loss: 1.3556 - val_acc: 0.4333\n",
      "Epoch 6/60\n",
      "4046/4046 [==============================] - 8s 2ms/step - loss: 1.1605 - acc: 0.5479 - val_loss: 1.1319 - val_acc: 0.5978\n",
      "Epoch 7/60\n",
      "4046/4046 [==============================] - 8s 2ms/step - loss: 1.1185 - acc: 0.5675 - val_loss: 1.1717 - val_acc: 0.5644\n",
      "Epoch 8/60\n",
      "4046/4046 [==============================] - 8s 2ms/step - loss: 1.1216 - acc: 0.5707 - val_loss: 1.0844 - val_acc: 0.5933\n",
      "Epoch 9/60\n",
      "4046/4046 [==============================] - 8s 2ms/step - loss: 1.0940 - acc: 0.5796 - val_loss: 1.1268 - val_acc: 0.5511\n",
      "Epoch 10/60\n",
      "4046/4046 [==============================] - 8s 2ms/step - loss: 1.0924 - acc: 0.5863 - val_loss: 1.1661 - val_acc: 0.5489\n",
      "Epoch 11/60\n",
      "4046/4046 [==============================] - 8s 2ms/step - loss: 1.0723 - acc: 0.5885 - val_loss: 1.1300 - val_acc: 0.5467\n",
      "Epoch 12/60\n",
      "4046/4046 [==============================] - 8s 2ms/step - loss: 1.0642 - acc: 0.5964 - val_loss: 2.6222 - val_acc: 0.3156\n",
      "Epoch 13/60\n",
      "4046/4046 [==============================] - 8s 2ms/step - loss: 1.0587 - acc: 0.5959 - val_loss: 1.1785 - val_acc: 0.5756\n",
      "Epoch 14/60\n",
      "4046/4046 [==============================] - 8s 2ms/step - loss: 1.0334 - acc: 0.6070 - val_loss: 1.1367 - val_acc: 0.5333\n",
      "Epoch 15/60\n",
      "4046/4046 [==============================] - 8s 2ms/step - loss: 1.0169 - acc: 0.6095 - val_loss: 1.3520 - val_acc: 0.5067\n",
      "Epoch 16/60\n",
      "4046/4046 [==============================] - 8s 2ms/step - loss: 1.0262 - acc: 0.6130 - val_loss: 1.5766 - val_acc: 0.4556\n",
      "Epoch 17/60\n",
      "4046/4046 [==============================] - 8s 2ms/step - loss: 1.0006 - acc: 0.6157 - val_loss: 1.6306 - val_acc: 0.4644\n",
      "Epoch 18/60\n",
      "4046/4046 [==============================] - 8s 2ms/step - loss: 1.0063 - acc: 0.6206 - val_loss: 1.2009 - val_acc: 0.5600\n",
      "Epoch 19/60\n",
      "4046/4046 [==============================] - 8s 2ms/step - loss: 0.9679 - acc: 0.6379 - val_loss: 1.1111 - val_acc: 0.5978\n",
      "Epoch 20/60\n",
      "4046/4046 [==============================] - 8s 2ms/step - loss: 0.9725 - acc: 0.6327 - val_loss: 1.1338 - val_acc: 0.5867\n",
      "Epoch 21/60\n",
      "4046/4046 [==============================] - 8s 2ms/step - loss: 0.9725 - acc: 0.6349 - val_loss: 1.0217 - val_acc: 0.6356\n",
      "Epoch 22/60\n",
      "4046/4046 [==============================] - 8s 2ms/step - loss: 0.9304 - acc: 0.6508 - val_loss: 1.0871 - val_acc: 0.5711\n",
      "Epoch 23/60\n",
      "4046/4046 [==============================] - 8s 2ms/step - loss: 0.9354 - acc: 0.6468 - val_loss: 1.1286 - val_acc: 0.5889\n",
      "Epoch 24/60\n",
      "4046/4046 [==============================] - 8s 2ms/step - loss: 0.9318 - acc: 0.6532 - val_loss: 1.1169 - val_acc: 0.5911\n",
      "Epoch 25/60\n",
      "4046/4046 [==============================] - 8s 2ms/step - loss: 0.9299 - acc: 0.6582 - val_loss: 1.0719 - val_acc: 0.5867\n",
      "Epoch 26/60\n",
      "4046/4046 [==============================] - 8s 2ms/step - loss: 0.9003 - acc: 0.6703 - val_loss: 1.2162 - val_acc: 0.5356\n",
      "Epoch 27/60\n",
      "4046/4046 [==============================] - 8s 2ms/step - loss: 0.9131 - acc: 0.6668 - val_loss: 1.2099 - val_acc: 0.5644\n",
      "Epoch 28/60\n",
      "4046/4046 [==============================] - 8s 2ms/step - loss: 0.8694 - acc: 0.6745 - val_loss: 1.2088 - val_acc: 0.5622\n",
      "Epoch 29/60\n",
      "4046/4046 [==============================] - 8s 2ms/step - loss: 0.8746 - acc: 0.6733 - val_loss: 1.0424 - val_acc: 0.6178\n",
      "Epoch 30/60\n",
      "4046/4046 [==============================] - 8s 2ms/step - loss: 0.8682 - acc: 0.6725 - val_loss: 1.2255 - val_acc: 0.5622\n",
      "Epoch 31/60\n",
      "4046/4046 [==============================] - 8s 2ms/step - loss: 0.8606 - acc: 0.6918 - val_loss: 1.1925 - val_acc: 0.5533\n",
      "Epoch 32/60\n",
      "4046/4046 [==============================] - 8s 2ms/step - loss: 0.8423 - acc: 0.6911 - val_loss: 1.2568 - val_acc: 0.5622\n",
      "Epoch 33/60\n",
      "4046/4046 [==============================] - 8s 2ms/step - loss: 0.8575 - acc: 0.6831 - val_loss: 1.0444 - val_acc: 0.6267\n",
      "Epoch 34/60\n",
      "4046/4046 [==============================] - 8s 2ms/step - loss: 0.8371 - acc: 0.6888 - val_loss: 1.3085 - val_acc: 0.5556\n",
      "Epoch 35/60\n",
      "4046/4046 [==============================] - 8s 2ms/step - loss: 0.8296 - acc: 0.6985 - val_loss: 1.1497 - val_acc: 0.6133\n",
      "Epoch 36/60\n",
      "4046/4046 [==============================] - 8s 2ms/step - loss: 0.8109 - acc: 0.7046 - val_loss: 1.1234 - val_acc: 0.5933\n",
      "Epoch 37/60\n",
      "4046/4046 [==============================] - 8s 2ms/step - loss: 0.8002 - acc: 0.7071 - val_loss: 1.0273 - val_acc: 0.6267\n",
      "Epoch 38/60\n",
      "4046/4046 [==============================] - 8s 2ms/step - loss: 0.8045 - acc: 0.7054 - val_loss: 1.0707 - val_acc: 0.6267\n",
      "Epoch 39/60\n",
      "4046/4046 [==============================] - 8s 2ms/step - loss: 0.7988 - acc: 0.7069 - val_loss: 1.1050 - val_acc: 0.6400\n",
      "Epoch 40/60\n",
      "4046/4046 [==============================] - 8s 2ms/step - loss: 0.8026 - acc: 0.7126 - val_loss: 1.1005 - val_acc: 0.6244\n",
      "Epoch 41/60\n",
      "4046/4046 [==============================] - 8s 2ms/step - loss: 0.8051 - acc: 0.7007 - val_loss: 1.0926 - val_acc: 0.6378\n",
      "Epoch 42/60\n",
      "4046/4046 [==============================] - 8s 2ms/step - loss: 0.7932 - acc: 0.7143 - val_loss: 1.1251 - val_acc: 0.6200\n",
      "Epoch 43/60\n",
      "4046/4046 [==============================] - 8s 2ms/step - loss: 0.7752 - acc: 0.7182 - val_loss: 1.0586 - val_acc: 0.6333\n",
      "Epoch 44/60\n",
      "4046/4046 [==============================] - 8s 2ms/step - loss: 0.7669 - acc: 0.7215 - val_loss: 1.0761 - val_acc: 0.6267\n",
      "Epoch 45/60\n",
      "4046/4046 [==============================] - 9s 2ms/step - loss: 0.7792 - acc: 0.7158 - val_loss: 1.0638 - val_acc: 0.6467\n",
      "Epoch 46/60\n",
      "4046/4046 [==============================] - 8s 2ms/step - loss: 0.7507 - acc: 0.7316 - val_loss: 1.1918 - val_acc: 0.5978\n",
      "Epoch 47/60\n",
      "4046/4046 [==============================] - 8s 2ms/step - loss: 0.7490 - acc: 0.7390 - val_loss: 1.0852 - val_acc: 0.6333\n",
      "Epoch 48/60\n",
      "4046/4046 [==============================] - 8s 2ms/step - loss: 0.7362 - acc: 0.7392 - val_loss: 1.1867 - val_acc: 0.6044\n",
      "Epoch 49/60\n",
      "4046/4046 [==============================] - 8s 2ms/step - loss: 0.7454 - acc: 0.7321 - val_loss: 1.5086 - val_acc: 0.5356\n",
      "Epoch 50/60\n",
      "4046/4046 [==============================] - 8s 2ms/step - loss: 0.7573 - acc: 0.7252 - val_loss: 1.1163 - val_acc: 0.6267\n",
      "Epoch 51/60\n",
      "4046/4046 [==============================] - 8s 2ms/step - loss: 0.7289 - acc: 0.7439 - val_loss: 1.2838 - val_acc: 0.5644\n",
      "Epoch 52/60\n",
      "4046/4046 [==============================] - 8s 2ms/step - loss: 0.7352 - acc: 0.7430 - val_loss: 1.2009 - val_acc: 0.6489\n",
      "Epoch 53/60\n",
      "4046/4046 [==============================] - 8s 2ms/step - loss: 0.7284 - acc: 0.7392 - val_loss: 1.2256 - val_acc: 0.5689\n",
      "Epoch 54/60\n",
      "4046/4046 [==============================] - 8s 2ms/step - loss: 0.7427 - acc: 0.7392 - val_loss: 1.1397 - val_acc: 0.6200\n",
      "Epoch 55/60\n",
      "4046/4046 [==============================] - 8s 2ms/step - loss: 0.6996 - acc: 0.7603 - val_loss: 1.1064 - val_acc: 0.6222\n",
      "Epoch 56/60\n",
      "4046/4046 [==============================] - 8s 2ms/step - loss: 0.7237 - acc: 0.7536 - val_loss: 1.1348 - val_acc: 0.6178\n",
      "Epoch 57/60\n",
      "4046/4046 [==============================] - 8s 2ms/step - loss: 0.7022 - acc: 0.7603 - val_loss: 1.1472 - val_acc: 0.6156\n",
      "Epoch 58/60\n",
      "4046/4046 [==============================] - 8s 2ms/step - loss: 0.7074 - acc: 0.7568 - val_loss: 1.3228 - val_acc: 0.5756\n",
      "Epoch 59/60\n",
      "4046/4046 [==============================] - 8s 2ms/step - loss: 0.6946 - acc: 0.7635 - val_loss: 1.1557 - val_acc: 0.6356\n",
      "Epoch 60/60\n",
      "4046/4046 [==============================] - 8s 2ms/step - loss: 0.6957 - acc: 0.7600 - val_loss: 1.2652 - val_acc: 0.6133\n",
      "500/500 [==============================] - 0s 510us/step\n",
      "Loss: 1.1028 and Acc: 0.6160\n"
     ]
    }
   ],
   "source": [
    "import pickle\n",
    "cnn = CNN()\n",
    "\n",
    "model, loss, acc, test_input, test_labels = cnn.fit_model()\n",
    "\n",
    "model.save('model-acc %.4f- loss %.4f.h5' % (acc, loss))\n",
    "\n",
    "with open('model-acc %.4f- loss %.4f - history' % (acc, loss), 'wb') as file_pi:\n",
    "        pickle.dump(model.history, file_pi)\n"
   ]
  },
  {
   "cell_type": "code",
   "execution_count": 14,
   "metadata": {
    "id": "vJwniYBQSbFW",
    "colab_type": "code",
    "outputId": "296ef930-b0c7-4d8a-fba0-367cc40b11da",
    "colab": {
     "base_uri": "https://localhost:8080/",
     "height": 295.0
    }
   },
   "outputs": [
    {
     "data": {
      "image/png": "[encoded data removed]",
      "text/plain": [
       "<Figure size 432x288 with 1 Axes>"
      ]
     },
     "metadata": {
      "tags": []
     },
     "output_type": "display_data"
    }
   ],
   "source": [
    "import matplotlib.pyplot as plt\n",
    "\n",
    "plt.plot(model.history.history['acc'])\n",
    "plt.plot(model.history.history['val_acc'])\n",
    "plt.title('Model accuracy')\n",
    "plt.ylabel('Accuracy')\n",
    "plt.xlabel('Epoch')\n",
    "plt.legend(['Train', 'Test'], loc='upper left')\n",
    "plt.show()"
   ]
  },
  {
   "cell_type": "code",
   "execution_count": 15,
   "metadata": {
    "id": "HGJ842q3PN0W",
    "colab_type": "code",
    "outputId": "0a29fa3f-2c12-40ba-c684-6ef25b370860",
    "colab": {
     "base_uri": "https://localhost:8080/",
     "height": 295.0
    }
   },
   "outputs": [
    {
     "data": {
      "image/png": "[encoded data removed]",
      "text/plain": [
       "<Figure size 432x288 with 1 Axes>"
      ]
     },
     "metadata": {
      "tags": []
     },
     "output_type": "display_data"
    }
   ],
   "source": [
    "\n",
    "plt.plot(model.history.history['loss'])\n",
    "plt.plot(model.history.history['val_loss'])\n",
    "plt.title('Model loss')\n",
    "plt.ylabel('Loss')\n",
    "plt.xlabel('Epoch')\n",
    "plt.legend(['Train', 'Test'], loc='upper left')\n",
    "plt.show()\n"
   ]
  },
  {
   "cell_type": "code",
   "execution_count": 16,
   "metadata": {
    "id": "-eYaK8s2PWR2",
    "colab_type": "code",
    "outputId": "1e1194f2-052e-466b-89c5-a09ff261b78b",
    "colab": {
     "base_uri": "https://localhost:8080/",
     "height": 221.0
    }
   },
   "outputs": [
    {
     "name": "stdout",
     "output_type": "stream",
     "text": [
      "[[57  0 16 13 10]\n",
      " [ 0 55  2 30  3]\n",
      " [ 7  0 78 11 10]\n",
      " [16  8 12 42 18]\n",
      " [ 3  2 10 21 76]]\n",
      "0.59375\n",
      "0.6111111111111112\n",
      "0.7358490566037735\n",
      "0.4375\n",
      "0.6785714285714286\n",
      "\n",
      "0.6113563192572627\n"
     ]
    }
   ],
   "source": [
    "from sklearn.metrics import confusion_matrix\n",
    "pred = model.predict_classes(test_input, batch_size=32)\n",
    "labels = []\n",
    "\n",
    "for i in test_labels:\n",
    "  labels.append(np.argmax(i))\n",
    "cm = confusion_matrix(labels, pred)\n",
    "print(cm)\n",
    "def add_list(l):\n",
    "  s = 0\n",
    "  for i in l:\n",
    "    s += i\n",
    "  return s\n",
    "s = 0\n",
    "for i in range(len(cm)):\n",
    "  s += cm[i][i] / add_list(cm[i])\n",
    "  print(cm[i][i] / add_list(cm[i]))\n",
    "print()\n",
    "print(s / 5)\n",
    "      "
   ]
  },
  {
   "cell_type": "code",
   "execution_count": 0,
   "metadata": {
    "id": "zf7YWeE7QAz4",
    "colab_type": "code",
    "colab": {}
   },
   "outputs": [],
   "source": [
    ""
   ]
  },
  {
   "cell_type": "code",
   "execution_count": 0,
   "metadata": {
    "id": "qTKMCMJ6O-UY",
    "colab_type": "code",
    "colab": {}
   },
   "outputs": [],
   "source": [
    "\n",
    "  \n",
    "  \n",
    "  \n",
    "  \n",
    "  \n",
    "  "
   ]
  }
 ],
 "metadata": {
  "colab": {
   "name": "Main CNN training.ipynb",
   "version": "0.3.2",
   "provenance": []
  },
  "kernelspec": {
   "name": "python3",
   "display_name": "Python 3"
  },
  "accelerator": "GPU"
 },
 "nbformat": 4,
 "nbformat_minor": 0
}
